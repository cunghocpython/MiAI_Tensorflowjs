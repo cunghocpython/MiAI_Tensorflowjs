{
  "nbformat": 4,
  "nbformat_minor": 0,
  "metadata": {
    "colab": {
      "provenance": [],
      "include_colab_link": true
    },
    "kernelspec": {
      "name": "python3",
      "display_name": "Python 3"
    },
    "language_info": {
      "name": "python"
    }
  },
  "cells": [
    {
      "cell_type": "markdown",
      "metadata": {
        "id": "view-in-github",
        "colab_type": "text"
      },
      "source": [
        "<a href=\"https://colab.research.google.com/github/cunghocpython/MiAI_Tensorflowjs/blob/main/Working_With_ChatGPT_APIs_Part_I_v0_28.ipynb\" target=\"_parent\"><img src=\"https://colab.research.google.com/assets/colab-badge.svg\" alt=\"Open In Colab\"/></a>"
      ]
    },
    {
      "cell_type": "markdown",
      "source": [
        "# **Working With ChatGPT APIs | Part-I**\n",
        "In the previous section, we discussed an overview of the various models provided by ChatGPT (natural language, code, images, audio etc) and identified use-cases / tasks that the various models and APIs can be used for.\n",
        "\n",
        "In this session, we will extensively use the `Completion()` and `ChatCompletion()` API endpoints (for generating one-off responses and conducting chats/conversations, respectively). In this section, we will:\n",
        "1. Make API calls to the `Completion()` and `ChatCompletion()` endpoints\n",
        "2. Modify the prompts and make them more nuanced to perform complex tasks\n",
        "3. Create a very simple 'AI Tutor' using the `ChatCompletion()` endpoint\n",
        "4. Measure the cost of making API calls via tokens and put guardrails in place to monitor and control costs\n"
      ],
      "metadata": {
        "id": "LxBP0R-EzDrj"
      }
    },
    {
      "cell_type": "markdown",
      "source": [
        "## Getting Started with the `Completion()` API in Python\n",
        "\n",
        "We first need to install the `openai` Python library. In Google colab, you can install libraries by adding an exclamation mark before pip, i.e. `!pip install <library_name>`. You also need to get an OpenAI API key. Create an OpenAI account and [get an API key here](https://platform.openai.com/account/api-keys)."
      ],
      "metadata": {
        "id": "yX178PpbSUQ-"
      }
    },
    {
      "cell_type": "markdown",
      "source": [
        "**IMPORTANT NOTE**: If you notice the code below, we've installed version 0.28 of the OpenAI library. This is because the Completions API used in this notebook is supported only till v0.28 of the OpenAI API. The completions model has been marked as legacy and will [retire at the beginning of 2024](https://openai.com/blog/gpt-4-api-general-availability).\n",
        "\n",
        "For more information, refer to the following [page](https://platform.openai.com/docs/guides/text-generation/completions-api)."
      ],
      "metadata": {
        "id": "0GjEk8WH7l-f"
      }
    },
    {
      "cell_type": "code",
      "source": [
        "# install openai version 0.28\n",
        "!pip install openai==0.28"
      ],
      "metadata": {
        "id": "moJyTKPwzGay",
        "colab": {
          "base_uri": "https://localhost:8080/"
        },
        "outputId": "d5395d9a-3b7f-4288-c9d3-1ab7cc90ae71"
      },
      "execution_count": null,
      "outputs": [
        {
          "output_type": "stream",
          "name": "stdout",
          "text": [
            "Requirement already satisfied: openai==0.28 in /usr/local/lib/python3.10/dist-packages (0.28.0)\n",
            "Requirement already satisfied: requests>=2.20 in /usr/local/lib/python3.10/dist-packages (from openai==0.28) (2.31.0)\n",
            "Requirement already satisfied: tqdm in /usr/local/lib/python3.10/dist-packages (from openai==0.28) (4.66.1)\n",
            "Requirement already satisfied: aiohttp in /usr/local/lib/python3.10/dist-packages (from openai==0.28) (3.9.1)\n",
            "Requirement already satisfied: charset-normalizer<4,>=2 in /usr/local/lib/python3.10/dist-packages (from requests>=2.20->openai==0.28) (3.3.2)\n",
            "Requirement already satisfied: idna<4,>=2.5 in /usr/local/lib/python3.10/dist-packages (from requests>=2.20->openai==0.28) (3.6)\n",
            "Requirement already satisfied: urllib3<3,>=1.21.1 in /usr/local/lib/python3.10/dist-packages (from requests>=2.20->openai==0.28) (2.0.7)\n",
            "Requirement already satisfied: certifi>=2017.4.17 in /usr/local/lib/python3.10/dist-packages (from requests>=2.20->openai==0.28) (2023.11.17)\n",
            "Requirement already satisfied: attrs>=17.3.0 in /usr/local/lib/python3.10/dist-packages (from aiohttp->openai==0.28) (23.1.0)\n",
            "Requirement already satisfied: multidict<7.0,>=4.5 in /usr/local/lib/python3.10/dist-packages (from aiohttp->openai==0.28) (6.0.4)\n",
            "Requirement already satisfied: yarl<2.0,>=1.0 in /usr/local/lib/python3.10/dist-packages (from aiohttp->openai==0.28) (1.9.3)\n",
            "Requirement already satisfied: frozenlist>=1.1.1 in /usr/local/lib/python3.10/dist-packages (from aiohttp->openai==0.28) (1.4.0)\n",
            "Requirement already satisfied: aiosignal>=1.1.2 in /usr/local/lib/python3.10/dist-packages (from aiohttp->openai==0.28) (1.3.1)\n",
            "Requirement already satisfied: async-timeout<5.0,>=4.0 in /usr/local/lib/python3.10/dist-packages (from aiohttp->openai==0.28) (4.0.3)\n"
          ]
        }
      ]
    },
    {
      "cell_type": "markdown",
      "source": [
        "To use OpenAI APIs we need to set an API key (you can do that [here](https://platform.openai.com/account/api-keys)). In this instance, I have stored my API key in a file named \"OpenAI_API_Key.txt\" which is stored on my Google drive.\n",
        "\n",
        "To read files from Google drive in Colab notebook, we need to \"mount the drive\" using the command below:"
      ],
      "metadata": {
        "id": "9SMoW69ewQ6X"
      }
    },
    {
      "cell_type": "code",
      "source": [
        "# once you mount your google drive, you can read data from your google drive into the colab notebook\n",
        "from google.colab import drive\n",
        "drive.mount('/content/drive')"
      ],
      "metadata": {
        "colab": {
          "base_uri": "https://localhost:8080/"
        },
        "id": "biDHNgQxwUu9",
        "outputId": "6d6c3a51-9e2f-4fa8-8a9e-ff19eaab4b0c"
      },
      "execution_count": null,
      "outputs": [
        {
          "output_type": "stream",
          "name": "stdout",
          "text": [
            "Mounted at /content/drive\n"
          ]
        }
      ]
    },
    {
      "cell_type": "code",
      "source": [
        "# # second (alternate) way to upload files to colab\n",
        "# # use this to import files from your system to the colab environment\n",
        "\n",
        "# from google.colab import files\n",
        "# uploaded = files.upload()"
      ],
      "metadata": {
        "id": "OEZLvy7Eyfdu"
      },
      "execution_count": null,
      "outputs": []
    },
    {
      "cell_type": "markdown",
      "source": [
        "Once the Google drive is mounted, you can access the folders and the files in your Google drive. In ```My Drive```, create a folder ```GenAI_Course_Master/Course_1_ShopAssistAI/Week_2/Session_1``` where you can store this notebook and other files (API keys, data files etc). You can then access all the files in that folder at the filepath ```/content/drive/My Drive/GenAI_Course_Master/Course_1_ShopAssistAI/Week_2/Session_1```."
      ],
      "metadata": {
        "id": "F1RjisTEwuYa"
      }
    },
    {
      "cell_type": "code",
      "source": [
        "filepath = '/content/drive/MyDrive/GenAI_Course_Master/Course_1_ShopAssistAI/Week_2/Session_1/'\n",
        "# linux command to print all files in a directory\n",
        "!ls \"/content/drive/MyDrive/GenAI_Course_Master/Course_1_ShopAssistAI/Week_2/Session_1/\"\n",
        "# or alternatively\n",
        "# !ls $filepath"
      ],
      "metadata": {
        "colab": {
          "base_uri": "https://localhost:8080/"
        },
        "id": "PGscQrIUxdw6",
        "outputId": "54dd6a2c-09b2-4d7c-c867-e3167cff8934"
      },
      "execution_count": null,
      "outputs": [
        {
          "output_type": "stream",
          "name": "stdout",
          "text": [
            "AI_tutor_system_message_1.txt\t   tata_transcript.txt\n",
            "OpenAI_API_Key_1.txt\t\t   Working_With_ChatGPT_APIs_Part_II_v0.28.ipynb\n",
            "OpenAI_API_Key.txt\t\t   Working_With_ChatGPT_APIs_Part_I_v0.28.ipynb\n",
            "tata_motors_transcript_sample.txt\n"
          ]
        }
      ]
    },
    {
      "cell_type": "code",
      "source": [
        "# import openai and set the API key\n",
        "import openai\n",
        "# filepath = \"/content/drive/My Drive/GenAI_Course_Master/Course_1_ShopAssistAI/\"\n",
        "\n",
        "with open(filepath + \"OpenAI_API_Key_1.txt\", \"r\") as f:\n",
        "  openai.api_key = ' '.join(f.readlines())"
      ],
      "metadata": {
        "id": "INJIL5XJzIre"
      },
      "execution_count": null,
      "outputs": []
    },
    {
      "cell_type": "markdown",
      "source": [
        "We can now use any of the OpenAI APIs. For natural language (text) and code, for any given model (GPT-3, 3.5 or 4), OpenAI provides API endpoints for three types of tasks:\n",
        "1. Text completion via the `Completion()` endpoint: Takes in text input (prompt) and generates output, good for single-use input-output\n",
        "2. Chat completion via the `ChatCompletion()` endpoint: Used for chat-like multi-turn conversation, takes the entire conversation history as input and returns the next response\n",
        "\n",
        "Let's first start with the `Completion()` API - the basic syntax is as follows. Here is an explanation of the key parameters we pass to the API call. [The official API documentation here](https://platform.openai.com/docs/api-reference/completions) explains everything in detail:\n",
        "* We use the model `text-davinci-002`, which belongs to the GPT-3.5 family\n",
        "* `max_tokens` refers to the max number of tokens to be generated\n",
        "* `temperature` is a number between 0 (most certain/deterministic) and 2 (most random), defaults to 1\n",
        "\n",
        "\n"
      ],
      "metadata": {
        "id": "LMdzXTS8zMci"
      }
    },
    {
      "cell_type": "code",
      "source": [
        "# using the Completion API\n",
        "\n",
        "# define an input prompt\n",
        "prompt = '''You are a helpful Python teaching assistant. Explain the various list indexing methods in Python. Provide an\n",
        "exhaustive summary of the methods describing what they do, sample code for each, and guidelines on when to use which method.\n",
        "'''\n",
        "\n",
        "chat_response = openai.Completion.create(\n",
        "    model=\"text-davinci-002\",\n",
        "    prompt=prompt,\n",
        "    max_tokens=200,\n",
        "    temperature=0.5,\n",
        "    n=1,\n",
        "    stop=None,\n",
        "    frequency_penalty=0,\n",
        "    presence_penalty=0)\n",
        "\n",
        "print(chat_response)"
      ],
      "metadata": {
        "colab": {
          "base_uri": "https://localhost:8080/"
        },
        "id": "4RTaTK5mzMvk",
        "outputId": "6447735b-ffd3-4cfc-e5f3-084df6e489a0"
      },
      "execution_count": null,
      "outputs": [
        {
          "output_type": "stream",
          "name": "stdout",
          "text": [
            "{\n",
            "  \"warning\": \"This model version is deprecated. Migrate before January 4, 2024 to avoid disruption of service. Learn more https://platform.openai.com/docs/deprecations\",\n",
            "  \"id\": \"cmpl-8VDCcFYoM2yzYNcrpO3842E2vosAx\",\n",
            "  \"object\": \"text_completion\",\n",
            "  \"created\": 1702449610,\n",
            "  \"model\": \"text-davinci-002\",\n",
            "  \"choices\": [\n",
            "    {\n",
            "      \"text\": \"\\nThere are three main ways to index a list in Python:\\n\\n1. By position: my_list[0]\\n2. By value: my_list.index(3)\\n3. By slice: my_list[1:3]\\n\\n1. By position:\\n\\nThis method returns the element at the given position in the list. For example, if we have a list of numbers:\\n\\nmy_list = [1, 2, 3, 4, 5]\\n\\nWe can get the first element by indexing the list like this:\\n\\nmy_list[0]\\n\\nThis would return the value 1. We can also index from the end of the list by using negative numbers:\\n\\nmy_list[-1]\\n\\nThis would return the value 5.\\n\\n2. By value:\\n\\nThis method returns the position of the given value in the list. For example, if we have a list\",\n",
            "      \"index\": 0,\n",
            "      \"logprobs\": null,\n",
            "      \"finish_reason\": \"length\"\n",
            "    }\n",
            "  ],\n",
            "  \"usage\": {\n",
            "    \"prompt_tokens\": 48,\n",
            "    \"completion_tokens\": 200,\n",
            "    \"total_tokens\": 248\n",
            "  }\n",
            "}\n"
          ]
        }
      ]
    },
    {
      "cell_type": "code",
      "source": [
        "print(type(chat_response))"
      ],
      "metadata": {
        "colab": {
          "base_uri": "https://localhost:8080/"
        },
        "id": "5YPQI16mzTyt",
        "outputId": "61628890-69f0-4e96-ee67-b324d0625b9d"
      },
      "execution_count": null,
      "outputs": [
        {
          "output_type": "stream",
          "name": "stdout",
          "text": [
            "<class 'openai.openai_object.OpenAIObject'>\n"
          ]
        }
      ]
    },
    {
      "cell_type": "markdown",
      "source": [
        "The API returns a dictionary-like object. Also, notice that the API returns the number of `total_tokens` used (prompt tokens + completion tokens).\n",
        "\n",
        "<br>\n",
        "\n",
        "The reply we are interested in is the `text` inside `choices`, which seems to be a list. We can access that as follows:"
      ],
      "metadata": {
        "id": "9P1ZzLT6zYhS"
      }
    },
    {
      "cell_type": "code",
      "source": [
        "# retrieve the response text\n",
        "print(chat_response.choices[0][\"text\"])"
      ],
      "metadata": {
        "colab": {
          "base_uri": "https://localhost:8080/"
        },
        "id": "7aj7T1JWzWST",
        "outputId": "0edeb4fe-375c-4d73-f669-646e6ae0841d"
      },
      "execution_count": null,
      "outputs": [
        {
          "output_type": "stream",
          "name": "stdout",
          "text": [
            "\n",
            "There are three main ways to index a list in Python:\n",
            "\n",
            "1. By position: my_list[0]\n",
            "2. By value: my_list.index(3)\n",
            "3. By slice: my_list[1:3]\n",
            "\n",
            "1. By position:\n",
            "\n",
            "This method returns the element at the given position in the list. For example, if we have a list of numbers:\n",
            "\n",
            "my_list = [1, 2, 3, 4, 5]\n",
            "\n",
            "We can get the first element by indexing the list like this:\n",
            "\n",
            "my_list[0]\n",
            "\n",
            "This would return the value 1. We can also index from the end of the list by using negative numbers:\n",
            "\n",
            "my_list[-1]\n",
            "\n",
            "This would return the value 5.\n",
            "\n",
            "2. By value:\n",
            "\n",
            "This method returns the position of the given value in the list. For example, if we have a list\n"
          ]
        }
      ]
    },
    {
      "cell_type": "markdown",
      "source": [
        "We can increase the number of `max_tokens` to get a more detailed response."
      ],
      "metadata": {
        "id": "yweiksDjEnAL"
      }
    },
    {
      "cell_type": "code",
      "source": [
        "# increased number of tokens\n",
        "chat_response = openai.Completion.create(\n",
        "    model=\"text-davinci-002\",\n",
        "    prompt=prompt,\n",
        "    max_tokens=800,\n",
        "    temperature=0.5,\n",
        "    n=1,\n",
        "    stop=None,\n",
        "    frequency_penalty=0,\n",
        "    presence_penalty=0)\n",
        "\n",
        "print(chat_response.choices[0][\"text\"])"
      ],
      "metadata": {
        "colab": {
          "base_uri": "https://localhost:8080/"
        },
        "id": "5fCzVUz1zdY9",
        "outputId": "c46b863f-2ab9-4df4-ce6b-a7cbe04434d9"
      },
      "execution_count": null,
      "outputs": [
        {
          "output_type": "stream",
          "name": "stdout",
          "text": [
            "\n",
            "There are four different ways to index lists in Python:\n",
            "\n",
            "1. Positive indexing: accessing elements from the beginning of the list.\n",
            "\n",
            "2. Negative indexing: accessing elements from the end of the list.\n",
            "\n",
            "3. Slicing: accessing a range of elements from the list.\n",
            "\n",
            "4. Extended slicing: accessing a range of elements from the list with a step size other than 1.\n",
            "\n",
            "Positive indexing is the most common form of indexing and is used to access elements from the beginning of the list. The syntax for positive indexing is:\n",
            "\n",
            "list_name[index]\n",
            "\n",
            "For example, if we have a list called my_list, we can access the first element of the list by using the index 0:\n",
            "\n",
            "my_list[0]\n",
            "\n",
            "We can also access the second element of the list by using the index 1:\n",
            "\n",
            "my_list[1]\n",
            "\n",
            "And so on.\n",
            "\n",
            "Negative indexing is used to access elements from the end of the list. The syntax for negative indexing is:\n",
            "\n",
            "list_name[-index]\n",
            "\n",
            "For example, if we have a list called my_list, we can access the last element of the list by using the index -1:\n",
            "\n",
            "my_list[-1]\n",
            "\n",
            "We can also access the second to last element of the list by using the index -2:\n",
            "\n",
            "my_list[-2]\n",
            "\n",
            "And so on.\n",
            "\n",
            "Slicing is used to access a range of elements from the list. The syntax for slicing is:\n",
            "\n",
            "list_name[start:end]\n",
            "\n",
            "For example, if we have a list called my_list, we can access the first three elements of the list by using the start index 0 and the end index 3:\n",
            "\n",
            "my_list[0:3]\n",
            "\n",
            "This will return a new list with the elements at indices 0, 1, and 2.\n",
            "\n",
            "We can also use slicing to access a range of elements from the end of the list. For example, if we want to access the last three elements of the list, we can use the start index -3 and the end index -1:\n",
            "\n",
            "my_list[-3:-1]\n",
            "\n",
            "This will return a new list with the elements at indices -3, -2, and -1.\n",
            "\n",
            "Extended slicing is used to access a range of elements from the list with a step size other than 1. The syntax for extended slicing is:\n",
            "\n",
            "list_name[start:end:step]\n",
            "\n",
            "For example, if we have a list called my_list, we can access every other element of the list by using the start index 0, the end index len(my_list), and the step size 2:\n",
            "\n",
            "my_list[0:len(my_list):2]\n",
            "\n",
            "This will return a new list with the elements at indices 0, 2, 4, 6, and so on.\n",
            "\n",
            "We can also use extended slicing to access a range of elements from the end of the list. For example, if we want to access the last three elements of the list in reverse order, we can use the start index -1, the end index -4, and the step size -1:\n",
            "\n",
            "my_list[-1:-4:-1]\n",
            "\n",
            "This will return a new list with the elements at indices -1, -2, and -3.\n"
          ]
        }
      ]
    },
    {
      "cell_type": "markdown",
      "source": [
        "> ### Exercise: Explore and play with the `Completions()` API\n",
        "\n",
        "\n",
        "\n",
        "*   Read the [completions API documentation](https://platform.openai.com/docs/api-reference/completions), experiment with modifying the various parameters\n",
        "* From the OpenAI API docs, find out the maximum number of tokens that can be used with the `text-davinci-002` model\n",
        "*   The prompt in the previous example is about explaining Python list indexing methods. Try to modify the prompt such that the user can provide a topic as a variable to the prompt, for e.g. dictionaries, dataframes, etc.\n",
        "\n"
      ],
      "metadata": {
        "id": "ZmLdhj30FvRW"
      }
    },
    {
      "cell_type": "markdown",
      "source": [
        "## Creating More Complex Prompts\n",
        "We can now modify the prompts such that users can provide inputs to it. For e.g. we may want to let the user specify the name of a topic."
      ],
      "metadata": {
        "id": "OQus9GhYNyYS"
      }
    },
    {
      "cell_type": "code",
      "source": [
        "# topic as input\n",
        "topic_name = \"Indexing in Pandas Dataframes\"\n",
        "\n",
        "prompt = '''You are a helpful Python teaching assistant. Explain the following topic in detail. Provide an exhaustive\n",
        "summary of the methods describing what they do, sample code for each, and guidelines on when to use which method.\n",
        "The topic is: {0}'''.format(topic_name)\n",
        "\n",
        "# call the API with the new prompt\n",
        "chat_response = openai.Completion.create(\n",
        "    model=\"text-davinci-002\",\n",
        "    prompt=prompt,\n",
        "    max_tokens=800,\n",
        "    temperature=0.5,\n",
        "    n=1,\n",
        "    stop=None,\n",
        "    frequency_penalty=0,\n",
        "    presence_penalty=0)\n",
        "\n",
        "print(chat_response.choices[0][\"text\"])"
      ],
      "metadata": {
        "colab": {
          "base_uri": "https://localhost:8080/"
        },
        "id": "fGJj_d9D8Iuu",
        "outputId": "31889297-5a30-45ca-87e7-f9821ee89664"
      },
      "execution_count": null,
      "outputs": [
        {
          "output_type": "stream",
          "name": "stdout",
          "text": [
            "\n",
            "\n",
            "Indexing in pandas dataframes refers to the process of selecting specific rows and columns from a dataframe. This can be done using the indexing operator, which is the square bracket ([ ]) operator.\n",
            "\n",
            "There are two ways to index dataframes:\n",
            "\n",
            "1. By position: This is the default indexing method in pandas. It uses numerical indices to select rows and columns. For example, to select the first row of a dataframe, we would use the following code: df[0]\n",
            "\n",
            "2. By label: This indexing method uses the row and column labels to select data. For example, to select the first row of a dataframe, we would use the following code: df.loc[0]\n",
            "\n",
            "To select multiple rows or columns, we can use the indexing operator with a list of indices. For example, to select the first and third rows of a dataframe, we would use the following code: df[[0, 2]]\n",
            "\n",
            "We can also use the indexing operator to select a range of rows or columns. For example, to select the first, second, and third rows of a dataframe, we would use the following code: df[:3]\n",
            "\n",
            "We can also use the indexing operator to select all rows or columns except for a specific row or column. For example, to select all rows of a dataframe except for the first row, we would use the following code: df[1:]\n",
            "\n",
            "Guidelines:\n",
            "\n",
            "1. If you only need to select a single row or column, it is best to use the indexing operator.\n",
            "\n",
            "2. If you need to select multiple rows or columns, it is best to use the indexing operator with a list of indices.\n",
            "\n",
            "3. If you need to select a range of rows or columns, it is best to use the indexing operator with a range.\n",
            "\n",
            "4. If you need to select all rows or columns except for a specific row or column, it is best to use the indexing operator with an exclusion.\n"
          ]
        }
      ]
    },
    {
      "cell_type": "markdown",
      "source": [
        "Depending on the application, we often want to provide additional instructions to the prompt, such as *explain at a beginner level*, *explain step by step*, or any other specific, detailed information, such as *use the following two page document to answer the user's question*. We can do that by some simple text manipulation hacks.\n",
        "\n",
        "<br>\n",
        "\n",
        "For example, say you want to develop an information retrieval app for Financial Analysts which can provide them information from documents such as investor presentations, annual reports, quarterly earnings calls, etc. As a sample, see [this earnings call report](https://www.tatamotors.com/wp-content/uploads/2023/05/earnings-call-transcript-q4-fy23.pdf) of an Indian automobile company, Tata Motors.\n",
        "\n",
        "For demonstration, we have taken a small toy-sized sample of this transcript and put it in a txt file `tata_motors_transcript_sample.txt` (this file is uploaded along with the colab notebook, so we can read the file directly as shown below).\n",
        "\n",
        "If you want to use any other file that you have on your system, you can upload it via the following command:"
      ],
      "metadata": {
        "id": "DN8SCbGKQDMk"
      }
    },
    {
      "cell_type": "code",
      "source": [
        "# use this to import files from your system to the colab environment\n",
        "\n",
        "# from google.colab import files\n",
        "# uploaded = files.upload()"
      ],
      "metadata": {
        "id": "_V96FYQgIMjN"
      },
      "execution_count": null,
      "outputs": []
    },
    {
      "cell_type": "code",
      "source": [
        "with open(filepath + \"tata_motors_transcript_sample.txt\", \"r\") as f:\n",
        "  transcript = ' '.join(f.readlines())\n",
        "\n",
        "print(len(transcript))\n",
        "print(transcript)"
      ],
      "metadata": {
        "colab": {
          "base_uri": "https://localhost:8080/"
        },
        "id": "yrO5KxOrafnU",
        "outputId": "10f0c629-b43d-48b5-8c89-6b6ff6448158"
      },
      "execution_count": null,
      "outputs": [
        {
          "output_type": "stream",
          "name": "stdout",
          "text": [
            "3370\n",
            "Fair to say it  has been an extremely satisfying quarter. And the reason I say, use  that word is that, nice to \n",
            "  see all the auto verticals coming together once again and this time  with a lot of intensity as well. So both \n",
            "  the alignment of the vectors are there and the magnitude  of vectors are also increasing, which is what has \n",
            "  translated into a strong set of numbers  for the quarters, resulting on multiple highs  and I will quickly  cover \n",
            "  that in the coming slides . We en ded the year on a pretty strong note with revenue of  around  Rs. 1 lakh \n",
            "  crores  with an EBITDA of 13.3% , and the profit before tax and exceptional item of Rs. 5,000  crores.  \n",
            "  On a full -year basis, we hit our highest ever revenue at  around  Rs. 3.5 lakh crores and ended the year  with \n",
            "  a positive free cash flow  of Rs. 7,800 crores, despite a very weak start in Q1 and  Q2, which you see in the \n",
            "  numbers . The business has been sequentially improving its performance  and doing it in significant \n",
            "  stretches. So, very happy with the way we have ended . Next slide please.  \n",
            "  Source of growt h, in the quarter we grew by about 35% , of which  volume  and mix contributed 24% of the \n",
            "  35% and the price came in at 10.5%, so price is still  a very strong variable in our growth agenda. \n",
            "  Profitability 3.2% went to 6.8% and all businesses  contributing to it and JLR coming at a very large swing \n",
            "  there, contributing to the  2.8% out of that delta there. Again debt continues to reduce at Rs. 43,700 crores \n",
            "  and TML India at Rs. 6,200 crores, JLR GBP  3 billion i.e. Rs. 30,000 crores we talk about. So  the FY 24 net \n",
            "  debt reduction plan, we are confirming, we will not be in a position to  meet the FY 24 numbers, but very \n",
            "  clearly  - FY25 we want this issue sorted out.  Next slide.  \n",
            "  A series of headlines, normally we don't do that, but it's fair to just pull back  and reflect  on what this \n",
            "  quarter and the year actually means for the Group . For us , each one of us in this call, we feel strongly \n",
            "  about this, the highest -ever revenue in a  quarter, the highest -ever EBITDA in a quarter, one of the \n",
            "  strongest PBTs that we  delivered and all three auto vertical simultaneously profitable, strong net debt \n",
            "  reduction.  That's all the quarter numbers. And if you factor in  that the first half was a very weak first half,  \n",
            "  we still delivered the highest -ever revenue. We have the highest EBITDA since  2015, very  strong PBT \n",
            "  despite the weak start , after factoring the weak start. And India net debt  lowest in the last 15 years, so \n",
            "  it's worthwhile just to  mull over  it to say, I would say, that the  potential of this business is slowly starting \n",
            "  to come out and that's what we would want to  build on when we go into FY 24. This is basically giving us \n",
            "  the impetus to how we want to  play at FY 24. Next slide.  \n",
            "  This is also something which we are happy about, a dividend of Rs. 2 per share for  the ordinary \n",
            "  shareholder s and Rs. 2.1 for the DVR shareholders, coming in after sometime. And this will obviously have \n",
            "  to be a - the Board has recommended this and this will have to be approved  in the ensuing shareholders \n",
            "  meeting. And this will result in a cash flow of  Rs. 771 crores as part of the plan i.e. this  is factored into the \n",
            "  debt reduction plan in any case.  So again, very happy to see this.\n",
            "\n"
          ]
        }
      ]
    },
    {
      "cell_type": "markdown",
      "source": [
        "Now, we design a prompt comprising of three entities - a) the base instruction which specifies the task to ChatGPT, b) the question asked by the user (analyst), c) the earnings call transcript using which it is supposed to find an answer."
      ],
      "metadata": {
        "id": "2_hIEDSDIcLG"
      }
    },
    {
      "cell_type": "code",
      "source": [
        "base_instruction = '''You are a helpful assistant which helps financial analysts retrieve relevant financial and business related information from documents.\n",
        "Given below is a question and the transcript of an earnings call of an automobile company, Tata Motors, which was attended by the top management of the firm.\n",
        "Try to respond with specific numbers and facts wherever possible. If you are not sure about the accuracy of the information, just respond that you do not know'''\n",
        "\n",
        "question = \"How much free cash flow did Tata Motors have at the end of the year?\"\n",
        "\n",
        "prompt = base_instruction + \"\\n\\n\" +  \"Question: {0}\".format(question) + \"\\n\\n\" + \"Transcript: \\n {0}\".format(transcript)\n",
        "\n",
        "print(prompt)\n"
      ],
      "metadata": {
        "colab": {
          "base_uri": "https://localhost:8080/"
        },
        "id": "NNDGlBEy8WAY",
        "outputId": "6a350341-d01e-4e56-f4ad-e62ee73aa3cd"
      },
      "execution_count": null,
      "outputs": [
        {
          "output_type": "stream",
          "name": "stdout",
          "text": [
            "You are a helpful assistant which helps financial analysts retrieve relevant financial and business related information from documents.\n",
            "Given below is a question and the transcript of an earnings call of an automobile company, Tata Motors, which was attended by the top management of the firm.\n",
            "Try to respond with specific numbers and facts wherever possible. If you are not sure about the accuracy of the information, just respond that you do not know\n",
            "\n",
            "Question: How much free cash flow did Tata Motors have at the end of the year?\n",
            "\n",
            "Transcript: \n",
            " Fair to say it  has been an extremely satisfying quarter. And the reason I say, use  that word is that, nice to \n",
            "  see all the auto verticals coming together once again and this time  with a lot of intensity as well. So both \n",
            "  the alignment of the vectors are there and the magnitude  of vectors are also increasing, which is what has \n",
            "  translated into a strong set of numbers  for the quarters, resulting on multiple highs  and I will quickly  cover \n",
            "  that in the coming slides . We en ded the year on a pretty strong note with revenue of  around  Rs. 1 lakh \n",
            "  crores  with an EBITDA of 13.3% , and the profit before tax and exceptional item of Rs. 5,000  crores.  \n",
            "  On a full -year basis, we hit our highest ever revenue at  around  Rs. 3.5 lakh crores and ended the year  with \n",
            "  a positive free cash flow  of Rs. 7,800 crores, despite a very weak start in Q1 and  Q2, which you see in the \n",
            "  numbers . The business has been sequentially improving its performance  and doing it in significant \n",
            "  stretches. So, very happy with the way we have ended . Next slide please.  \n",
            "  Source of growt h, in the quarter we grew by about 35% , of which  volume  and mix contributed 24% of the \n",
            "  35% and the price came in at 10.5%, so price is still  a very strong variable in our growth agenda. \n",
            "  Profitability 3.2% went to 6.8% and all businesses  contributing to it and JLR coming at a very large swing \n",
            "  there, contributing to the  2.8% out of that delta there. Again debt continues to reduce at Rs. 43,700 crores \n",
            "  and TML India at Rs. 6,200 crores, JLR GBP  3 billion i.e. Rs. 30,000 crores we talk about. So  the FY 24 net \n",
            "  debt reduction plan, we are confirming, we will not be in a position to  meet the FY 24 numbers, but very \n",
            "  clearly  - FY25 we want this issue sorted out.  Next slide.  \n",
            "  A series of headlines, normally we don't do that, but it's fair to just pull back  and reflect  on what this \n",
            "  quarter and the year actually means for the Group . For us , each one of us in this call, we feel strongly \n",
            "  about this, the highest -ever revenue in a  quarter, the highest -ever EBITDA in a quarter, one of the \n",
            "  strongest PBTs that we  delivered and all three auto vertical simultaneously profitable, strong net debt \n",
            "  reduction.  That's all the quarter numbers. And if you factor in  that the first half was a very weak first half,  \n",
            "  we still delivered the highest -ever revenue. We have the highest EBITDA since  2015, very  strong PBT \n",
            "  despite the weak start , after factoring the weak start. And India net debt  lowest in the last 15 years, so \n",
            "  it's worthwhile just to  mull over  it to say, I would say, that the  potential of this business is slowly starting \n",
            "  to come out and that's what we would want to  build on when we go into FY 24. This is basically giving us \n",
            "  the impetus to how we want to  play at FY 24. Next slide.  \n",
            "  This is also something which we are happy about, a dividend of Rs. 2 per share for  the ordinary \n",
            "  shareholder s and Rs. 2.1 for the DVR shareholders, coming in after sometime. And this will obviously have \n",
            "  to be a - the Board has recommended this and this will have to be approved  in the ensuing shareholders \n",
            "  meeting. And this will result in a cash flow of  Rs. 771 crores as part of the plan i.e. this  is factored into the \n",
            "  debt reduction plan in any case.  So again, very happy to see this.\n",
            "\n"
          ]
        }
      ]
    },
    {
      "cell_type": "code",
      "source": [
        "# call the API with the new prompt\n",
        "chat_response = openai.Completion.create(\n",
        "    model=\"text-davinci-002\",\n",
        "    prompt=prompt,\n",
        "    max_tokens=1000,\n",
        "    temperature=0.5,\n",
        "    n=1,\n",
        "    stop=None,\n",
        "    frequency_penalty=0,\n",
        "    presence_penalty=0)\n",
        "\n",
        "print(chat_response.choices[0][\"text\"])"
      ],
      "metadata": {
        "colab": {
          "base_uri": "https://localhost:8080/"
        },
        "id": "fslRdgwh-kwR",
        "outputId": "1471e18b-c204-4c5a-d85e-37a3955502f2"
      },
      "execution_count": null,
      "outputs": [
        {
          "output_type": "stream",
          "name": "stdout",
          "text": [
            "\n",
            "Tata Motors had a positive free cash flow of Rs. 7,800 crores at the end of the year.\n"
          ]
        }
      ]
    },
    {
      "cell_type": "code",
      "source": [
        "# another question\n",
        "question = \"Summarise the key financial metrics reported in the earnings call related to revenue growth, profitability, cash flow and debt.\"\n",
        "\n",
        "prompt = base_instruction + \"\\n\\n\" +  \"Question: {0}\".format(question) + \"\\n\\n\" + \"Transcript: \\n {0}\".format(transcript)\n",
        "\n",
        "chat_response = openai.Completion.create(\n",
        "    model=\"text-davinci-002\",\n",
        "    prompt=prompt,\n",
        "    max_tokens=1000,\n",
        "    temperature=0.5,\n",
        "    n=1,\n",
        "    stop=None,\n",
        "    frequency_penalty=0,\n",
        "    presence_penalty=0)\n",
        "\n",
        "print(chat_response.choices[0][\"text\"])"
      ],
      "metadata": {
        "colab": {
          "base_uri": "https://localhost:8080/"
        },
        "id": "rE52r251-wqX",
        "outputId": "49f99790-aae6-4f77-c5db-9b8fbac900ba"
      },
      "execution_count": null,
      "outputs": [
        {
          "output_type": "stream",
          "name": "stdout",
          "text": [
            "\n",
            "In the earnings call, the company reported revenue growth of 35%, with volume and mix contributing 24% and price contributing 10.5%. The company also reported profitability of 3.2%, which increased to 6.8%. Additionally, the company reported debt reduction of Rs. 43,700 crores and TML India at Rs. 6,200 crores, JLR GBP 3 billion i.e. Rs. 30,000 crores.\n"
          ]
        }
      ]
    },
    {
      "cell_type": "code",
      "source": [
        "# ask something not mentioned in the transcript sample\n",
        "question = \"How much equity funding did Tata Motors raise from institutional investors in this quarter?\"\n",
        "\n",
        "prompt = base_instruction + \"\\n\\n\" +  \"Question: {0}\".format(question) + \"\\n\\n\" + \"Transcript: \\n {0}\".format(transcript)\n",
        "\n",
        "chat_response = openai.Completion.create(\n",
        "    model=\"text-davinci-002\",\n",
        "    prompt=prompt,\n",
        "    max_tokens=1000,\n",
        "    temperature=0.5,\n",
        "    n=1,\n",
        "    stop=None,\n",
        "    frequency_penalty=0,\n",
        "    presence_penalty=0)\n",
        "\n",
        "print(chat_response.choices[0][\"text\"])"
      ],
      "metadata": {
        "colab": {
          "base_uri": "https://localhost:8080/"
        },
        "id": "UntEK50dJols",
        "outputId": "0feb2c87-94cc-4794-eda2-eb58ec9bedaa"
      },
      "execution_count": null,
      "outputs": [
        {
          "output_type": "stream",
          "name": "stdout",
          "text": [
            "\n",
            "Tata Motors raised Rs. 771 crores from institutional investors in this quarter.\n"
          ]
        }
      ]
    },
    {
      "cell_type": "markdown",
      "source": [
        "> ### Exercise: Refining the Prompt\n",
        "* Modify the prompt so ChatGPT can do the following tasks:\n",
        " - When the user asks for information not present in the transcript, ChatGPT must respond accordingly, rather than providing an incorrect answer\n",
        " - If ChatGPT is unsure of the answer, it must provide an appropriate response"
      ],
      "metadata": {
        "id": "t-ORuzjjaPfX"
      }
    },
    {
      "cell_type": "markdown",
      "source": [
        "## Summary\n",
        "\n",
        "In this section of the tutorial, we used the `Completion()` API to access ChatGPT via Python, wrote prompts that can take variable inputs, and tinkered with some ways to add external information to the prompts.\n",
        "\n",
        "In the next section, we will build longer, chat-like programs using the `ChatCompletion()` API."
      ],
      "metadata": {
        "id": "PYyBU1zqZ5I7"
      }
    }
  ]
}